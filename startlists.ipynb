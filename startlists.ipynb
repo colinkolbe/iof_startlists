{
 "cells": [
  {
   "cell_type": "markdown",
   "metadata": {},
   "source": [
    "# Startlist creation for IOF Foot-O races\n",
    "\n",
    "Set parameters accordingly and execute the codeblocks, after that a Excel-file with the startlists will be created.   \n",
    "Via specificing a <i>eventSpecificFunction</i> special cases can be handeled, if needed this should be possible to be quickly implemented with the help of the existing implementations. \n",
    "\n",
    "`Libraries needed: pandas, bs4, selenium, jupyterlab, ipykernel`  \n",
    "`Firefox needs to be installed`  \n",
    "`VS Code is recommended`  "
   ]
  },
  {
   "cell_type": "code",
   "execution_count": null,
   "metadata": {},
   "outputs": [],
   "source": [
    "from IPython.display import display\n",
    "from startlist_creation import *\n",
    "%load_ext autoreload\n",
    "%autoreload 2"
   ]
  },
  {
   "cell_type": "code",
   "execution_count": null,
   "metadata": {},
   "outputs": [],
   "source": [
    "# Set parameters: For lists: [men-data, women-data] (following Eventor order)\n",
    "# race specific eventId\n",
    "eventId = None\n",
    "# Date of WRE scores, f.ex. ['7', 'July', '2023']\n",
    "wreDate = ['16', 'August', '2023'] # ['dd', 'Month', 'yyyy'] \n",
    "# False: 'FootO Middle/Long'; True: 'FootO Sprint'\n",
    "sprintWRE = False \n",
    "# first bib number\n",
    "firstBibNumber = [1, 201]\n",
    "# Format: (hh, mm, ss)\n",
    "firstStart = [(10, 0, 0), (10, 0, 0)] # (hh, mm, ss)\n",
    "# Format: (mm, ss)\n",
    "# Second tuple is for longer start intervals after certain amount of runners\n",
    "startInterval = [[(2, 0), (3, 0)], [(2, 0), (3, 0)]] \n",
    "# Amount of runners in longer start interval group\n",
    "amountLongerStartInterval = [0, 0] \n",
    "# time gap for time between the runner of the last normal start and the runner of the first longer start \n",
    "timeGap = [(0, 0, 0), (0, 0, 0)]\n",
    "# Starting position of best ranked runner\n",
    "bestRankedFirst = False\n",
    "# 3 heats are assumed\n",
    "qualificationRace = False \n",
    "# For reproducability (used in pandas.sample() if draw is done randomly)\n",
    "randomSeed = 123 "
   ]
  },
  {
   "cell_type": "code",
   "execution_count": null,
   "metadata": {},
   "outputs": [],
   "source": [
    "# 3 groups are assumed (early, middle, late)\n",
    "startingGroups = False\n",
    "if startingGroups:\n",
    "    entriesM, entriesW = getTableAsDf('https://eventor.orienteering.org/Events/Entries?eventId=' + str(eventId) + '&groupBy=EventClass')\n",
    "    entriesM.insert(0, 'StartingGroups', -1)\n",
    "    entriesW.insert(0, 'StartingGroups', -1)\n",
    "    entriesM.to_csv('entriesM.csv', mode='w+', index=False)\n",
    "    entriesW.to_csv('entriesW.csv', mode='w+', index=False)\n",
    "# MANUALLY add StartingGroups preferences := [1, 2, 3] in .csv (early, middle, late)\n",
    "# IMPORTANT BEFORE MOVING ON: If startingGroups is True, \n",
    "# then ensure the StartingGroups column is set else a even distribution will be created"
   ]
  },
  {
   "cell_type": "code",
   "execution_count": null,
   "metadata": {},
   "outputs": [],
   "source": [
    "# def eventSpecificFunction(entries, args, eventSpecificArgs):\n",
    "    # gets dataframe of entries [Name, Organisation, Punching card number, WRS] sorted descendingly by WRS\n",
    "    # handle event-specific runner ordering\n",
    "    # add 'Bib number' and 'Start time' column (see default implementations)\n",
    "    # return the desiredly ordered startList\n",
    "eventSpecificFunction = [None, None] \n",
    "# insert here additional (eventSpecific) information needed for startlist creation\n",
    "eventSpecificArgs = [(None), (None)]"
   ]
  },
  {
   "cell_type": "code",
   "execution_count": null,
   "metadata": {},
   "outputs": [],
   "source": [
    "# Create startlists\n",
    "if eventId != None:\n",
    "    startListM, startListW = getStartLists(eventId, wreDate, sprintWRE, firstBibNumber, firstStart, \n",
    "                                        startInterval, amountLongerStartInterval, timeGap, eventSpecificFunction, \n",
    "                                        qualificationRace, randomSeed, bestRankedFirst, startingGroups, eventSpecificArgs)\n",
    "    if qualificationRace:\n",
    "        heat1M, heat2M, heat3M = startListM\n",
    "        heat1W, heat2W, heat3W = startListW"
   ]
  },
  {
   "cell_type": "code",
   "execution_count": null,
   "metadata": {},
   "outputs": [],
   "source": [
    "# Optional view into the created startlists\n",
    "# display(startListM.head(10))\n",
    "# display(startListM.tail(10))\n",
    "# display(startListW.head(10))\n",
    "# display(startListW.tail(10))"
   ]
  },
  {
   "cell_type": "code",
   "execution_count": null,
   "metadata": {},
   "outputs": [],
   "source": [
    "# Replace runners\n",
    "# Add runner in the corresponding list as tuple: ('oldRunnerName', 'newRunnerName', newPunchingCardNumber, newBibNumber, 'newStartTime')\n",
    "if eventId != None:\n",
    "    replaceMaleRunners = []\n",
    "    replaceFemaleRunners = []\n",
    "    toBeReplaced = [replaceMaleRunners, replaceFemaleRunners]\n",
    "    startListM, startListW = replaceRunners(startListM, startListW, toBeReplaced, eventId, qualificationRace, startingGroups)"
   ]
  },
  {
   "cell_type": "code",
   "execution_count": null,
   "metadata": {},
   "outputs": [],
   "source": [
    "proofOfConcept = True\n",
    "if proofOfConcept:\n",
    "    startListM1, startListW1 = wc2_long_2023()\n",
    "    print('')\n",
    "    startListM2, startListW2 = wc2_sprint_2023()\n",
    "    print('')\n",
    "\n",
    "# Note that existing startlists of past events based on a random draw \n",
    "# can´t exactly be reproduced (unless method and seed are known)\n",
    "# Similar can this lead to slight difference if two or more runners have the same WRS"
   ]
  },
  {
   "cell_type": "markdown",
   "metadata": {},
   "source": [
    "-----"
   ]
  },
  {
   "cell_type": "code",
   "execution_count": null,
   "metadata": {},
   "outputs": [],
   "source": [
    "# print(startListW.to_string())\n",
    "# display(startListM1.head(10))\n",
    "# display(startListM1.tail(10))\n",
    "# display(startListW1.head(10))\n",
    "# display(startListW1.tail(10))"
   ]
  }
 ],
 "metadata": {
  "kernelspec": {
   "display_name": "baseKernel",
   "language": "python",
   "name": "python3"
  },
  "language_info": {
   "codemirror_mode": {
    "name": "ipython",
    "version": 3
   },
   "file_extension": ".py",
   "mimetype": "text/x-python",
   "name": "python",
   "nbconvert_exporter": "python",
   "pygments_lexer": "ipython3",
   "version": "3.11.0"
  },
  "orig_nbformat": 4
 },
 "nbformat": 4,
 "nbformat_minor": 2
}
